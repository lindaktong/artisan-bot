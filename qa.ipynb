{
 "cells": [
  {
   "attachments": {},
   "cell_type": "markdown",
   "id": "9ebd41d8",
   "metadata": {},
   "source": [
    "## Imports\n",
    "\n",
    "We'll begin by:\n",
    "- Importing the necessary libraries\n",
    "- Selecting models for embeddings search and question answering\n",
    "\n"
   ]
  },
  {
   "cell_type": "code",
   "execution_count": 2,
   "id": "9e3839a6-9146-4f60-b74b-19abbc24278d",
   "metadata": {},
   "outputs": [],
   "source": [
    "# imports\n",
    "import ast  # for converting embeddings saved as strings back to arrays\n",
    "from openai import OpenAI # for calling the OpenAI API\n",
    "import pandas as pd  # for storing text and embeddings data\n",
    "import tiktoken  # for counting tokens\n",
    "import os # for getting API token from env variable OPENAI_API_KEY\n",
    "from scipy import spatial  # for calculating vector similarities for search\n",
    "\n",
    "# models\n",
    "EMBEDDING_MODEL = \"text-embedding-3-large\"\n",
    "GPT_MODEL = \"gpt-4o\"\n",
    "\n",
    "client = OpenAI()\n"
   ]
  },
  {
   "attachments": {},
   "cell_type": "markdown",
   "id": "ccc2d8de",
   "metadata": {},
   "source": [
    "## 1. Prepare search data"
   ]
  },
  {
   "cell_type": "code",
   "execution_count": 3,
   "id": "46d50792",
   "metadata": {},
   "outputs": [],
   "source": [
    "# download pre-chunked text and pre-computed embeddings\n",
    "df = pd.read_csv(\"artisan.csv\")"
   ]
  },
  {
   "cell_type": "code",
   "execution_count": 4,
   "id": "70307f8e",
   "metadata": {},
   "outputs": [],
   "source": [
    "# convert embeddings from CSV str type back to list type\n",
    "df['embedding'] = df['embedding'].apply(ast.literal_eval)"
   ]
  },
  {
   "cell_type": "code",
   "execution_count": 5,
   "id": "424162c2",
   "metadata": {},
   "outputs": [
    {
     "data": {
      "text/html": [
       "<div>\n",
       "<style scoped>\n",
       "    .dataframe tbody tr th:only-of-type {\n",
       "        vertical-align: middle;\n",
       "    }\n",
       "\n",
       "    .dataframe tbody tr th {\n",
       "        vertical-align: top;\n",
       "    }\n",
       "\n",
       "    .dataframe thead th {\n",
       "        text-align: right;\n",
       "    }\n",
       "</style>\n",
       "<table border=\"1\" class=\"dataframe\">\n",
       "  <thead>\n",
       "    <tr style=\"text-align: right;\">\n",
       "      <th></th>\n",
       "      <th>text</th>\n",
       "      <th>embedding</th>\n",
       "    </tr>\n",
       "  </thead>\n",
       "  <tbody>\n",
       "    <tr>\n",
       "      <th>0</th>\n",
       "      <td>Artisan\\n\\nArtisan</td>\n",
       "      <td>[-0.01277793782389468, -0.003185376819509296, ...</td>\n",
       "    </tr>\n",
       "    <tr>\n",
       "      <th>1</th>\n",
       "      <td>Artisan\\n\\nArtisan</td>\n",
       "      <td>[-0.01277793782389468, -0.003185376819509296, ...</td>\n",
       "    </tr>\n",
       "    <tr>\n",
       "      <th>2</th>\n",
       "      <td>How To Setup New Domains &amp; Email Accounts | Ar...</td>\n",
       "      <td>[-0.015241750667813539, -0.016197075238963993,...</td>\n",
       "    </tr>\n",
       "    <tr>\n",
       "      <th>3</th>\n",
       "      <td>How To Set Up Your DKIM, SPF and DMARC | Artis...</td>\n",
       "      <td>[0.014848935559158742, -0.04646190381222231, -...</td>\n",
       "    </tr>\n",
       "    <tr>\n",
       "      <th>4</th>\n",
       "      <td>How To Add Variables To Your Email Templates |...</td>\n",
       "      <td>[0.010927064541469777, -0.03749197097060811, -...</td>\n",
       "    </tr>\n",
       "    <tr>\n",
       "      <th>...</th>\n",
       "      <td>...</td>\n",
       "      <td>...</td>\n",
       "    </tr>\n",
       "    <tr>\n",
       "      <th>95</th>\n",
       "      <td>Talk to Sales | Use Artisan to Supercharge You...</td>\n",
       "      <td>[-0.015319721481669218, -0.020032235971266715,...</td>\n",
       "    </tr>\n",
       "    <tr>\n",
       "      <th>96</th>\n",
       "      <td>Talk to Sales | Use Artisan to Supercharge You...</td>\n",
       "      <td>[-0.01544967977944185, -0.020016565130510023, ...</td>\n",
       "    </tr>\n",
       "    <tr>\n",
       "      <th>97</th>\n",
       "      <td>Terms of Use - Artisan\\n\\nTerms of Use - Artis...</td>\n",
       "      <td>[-0.0032217373928867302, -0.05428168057532449,...</td>\n",
       "    </tr>\n",
       "    <tr>\n",
       "      <th>98</th>\n",
       "      <td>Terms of Use - Artisan\\n\\nTerms of Use - Artis...</td>\n",
       "      <td>[-0.0032021576198882047, -0.05418228285275306,...</td>\n",
       "    </tr>\n",
       "    <tr>\n",
       "      <th>99</th>\n",
       "      <td>Demo Page | Artisan\\n\\nDemo Page | Artisan Con...</td>\n",
       "      <td>[-0.020551555753934973, -0.030084507986387427,...</td>\n",
       "    </tr>\n",
       "  </tbody>\n",
       "</table>\n",
       "<p>100 rows × 2 columns</p>\n",
       "</div>"
      ],
      "text/plain": [
       "                                                 text  \\\n",
       "0                                  Artisan\\n\\nArtisan   \n",
       "1                                  Artisan\\n\\nArtisan   \n",
       "2   How To Setup New Domains & Email Accounts | Ar...   \n",
       "3   How To Set Up Your DKIM, SPF and DMARC | Artis...   \n",
       "4   How To Add Variables To Your Email Templates |...   \n",
       "..                                                ...   \n",
       "95  Talk to Sales | Use Artisan to Supercharge You...   \n",
       "96  Talk to Sales | Use Artisan to Supercharge You...   \n",
       "97  Terms of Use - Artisan\\n\\nTerms of Use - Artis...   \n",
       "98  Terms of Use - Artisan\\n\\nTerms of Use - Artis...   \n",
       "99  Demo Page | Artisan\\n\\nDemo Page | Artisan Con...   \n",
       "\n",
       "                                            embedding  \n",
       "0   [-0.01277793782389468, -0.003185376819509296, ...  \n",
       "1   [-0.01277793782389468, -0.003185376819509296, ...  \n",
       "2   [-0.015241750667813539, -0.016197075238963993,...  \n",
       "3   [0.014848935559158742, -0.04646190381222231, -...  \n",
       "4   [0.010927064541469777, -0.03749197097060811, -...  \n",
       "..                                                ...  \n",
       "95  [-0.015319721481669218, -0.020032235971266715,...  \n",
       "96  [-0.01544967977944185, -0.020016565130510023, ...  \n",
       "97  [-0.0032217373928867302, -0.05428168057532449,...  \n",
       "98  [-0.0032021576198882047, -0.05418228285275306,...  \n",
       "99  [-0.020551555753934973, -0.030084507986387427,...  \n",
       "\n",
       "[100 rows x 2 columns]"
      ]
     },
     "execution_count": 5,
     "metadata": {},
     "output_type": "execute_result"
    }
   ],
   "source": [
    "# the dataframe has two columns: \"text\" and \"embedding\"\n",
    "df"
   ]
  },
  {
   "attachments": {},
   "cell_type": "markdown",
   "id": "ec1c344c",
   "metadata": {},
   "source": [
    "## 2. Search\n",
    "\n",
    "- Takes a user query and a dataframe with text & embedding columns\n",
    "- Embeds the user query with the OpenAI API\n",
    "- Uses distance between query embedding and text embeddings to rank the texts\n",
    "- Returns two lists:\n",
    "    - The top N texts, ranked by relevance\n",
    "    - Their corresponding relevance scores"
   ]
  },
  {
   "cell_type": "code",
   "execution_count": 6,
   "id": "b9a8c713-c8a9-47dc-85a4-871ee1395566",
   "metadata": {},
   "outputs": [],
   "source": [
    "# search function\n",
    "def strings_ranked_by_relatedness(\n",
    "    query: str,\n",
    "    df: pd.DataFrame,\n",
    "    relatedness_fn=lambda x, y: 1 - spatial.distance.cosine(x, y),\n",
    "    top_n: int = 100\n",
    ") -> tuple[list[str], list[float]]:\n",
    "    \"\"\"Returns a list of strings and relatednesses, sorted from most related to least.\"\"\"\n",
    "    query_embedding_response = client.embeddings.create(\n",
    "        model=EMBEDDING_MODEL,\n",
    "        input=query,\n",
    "    )\n",
    "    query_embedding = query_embedding_response.data[0].embedding\n",
    "    strings_and_relatednesses = [\n",
    "        (row[\"text\"], relatedness_fn(query_embedding, row[\"embedding\"]))\n",
    "        for i, row in df.iterrows()\n",
    "    ]\n",
    "    strings_and_relatednesses.sort(key=lambda x: x[1], reverse=True)\n",
    "    strings, relatednesses = zip(*strings_and_relatednesses)\n",
    "    return strings[:top_n], relatednesses[:top_n]\n"
   ]
  },
  {
   "cell_type": "code",
   "execution_count": 7,
   "id": "da034bd2",
   "metadata": {},
   "outputs": [
    {
     "name": "stdout",
     "output_type": "stream",
     "text": [
      "relatedness=0.664\n"
     ]
    },
    {
     "data": {
      "text/plain": [
       "'What Is Email Warmup? | Artisan AI Help Center\\n\\nWhat Is Email Warmup? | Artisan AI Help Center Skip to main content Artisan AI Help Center Back To App English ; English Back To App English ; English Table of contents All Collections Artisan Sales What Is Email Warmup? What Is Email Warmup? Here we explain what email warmup is, how it works, why we use it and what to expect! Updated over a week ago Table of contents Email warmup works by gradually increasing the volume of emails sent from a new account over a period of time. This establishes a positive reputation with Internet Service Providers (ISPs), which improves deliverability and reduces the chance of emails getting flagged as spam. Given our recommendation to register new email accounts on our platform, we provide a built-in email warmup service. This ensures your mailboxes are prepared to handle your outbound email campaigns effectively. How Does Email Warmup Work? Warmup is an ongoing process that happens when you do cold outreach to protect your mailbox health. Our warmup service will send emails from your new account to dummy addresses. We\\'ll start with a low volume of emails and then gradually increase the number of emails sent every day. Again, email warmup is an extremely common practice in cold outreach and necessary to avoid your messages getting flagged as spam. How Can I Tell What A Warmup Email Looks Like? We use the keyword “Artz” in all of our warmup emails so that you know these are definitely warm up emails! Warmup emails tend to have random subjects, so will look out of place in your sent folder. Here’s an example of a warmup email: How Long Is Ava’s Email Warmup Period? Email warmup is an ongoing process designed to gradually increase your sending limit while maintaining the health of your email account. Initially, this process \"warms up\" your account, starting with a limit of 10 emails per day, and progressively expands to a maximum of 75 emails per mailbox. As you continue to send cold emails, this ongoing warmup supports the balance and health of your email activities. You can monitor the progression of your email capacity on our dashboard. Once your email is fully warmed up, Ava will continue sending warm-up emails from your account to maintain your mailbox health. Okay, So Is This Why Ava Is Sending Strange Emails? Yep! During her warmup period, Ava sends fake interactions to dummy accounts. There’s no need to be concerned about these odd emails showing up in your inbox. They’re not going to any actual prospects. You haven’t been hacked! My Email Status is Red. Is This Related to Email Warmup? A red email status indicates your mailbox health is low. This may occur early in the email warmup process, but should not persist after three weeks. If you still have a red status after three weeks, there’s usually a problem with your DMS settings. Make sure your DKIM, DMARC, and SPF records are configured correctly for email deliverability. You can find an article on how to adjust your email settings here: https://support.artisan.co/en/articles/8774818-how-to-set-up-your-dkim-spf-and-dmarc Related Articles How To Setup New Domains & Email Accounts Help! Ava Is Sending Strange Messages From My Email How Many Email Addresses Do I Need for Different Plans? Ava Isn’t Sending Out My Emails. Why? Getting Started with Artisan Sales Did this answer your question? 😞 😐 😃 Artisan AI Help Center'"
      ]
     },
     "metadata": {},
     "output_type": "display_data"
    },
    {
     "name": "stdout",
     "output_type": "stream",
     "text": [
      "relatedness=0.612\n"
     ]
    },
    {
     "data": {
      "text/plain": [
       "\"Help! Ava Is Sending Strange Messages From My Email | Artisan AI Help Center\\n\\nHelp! Ava Is Sending Strange Messages From My Email | Artisan AI Help Center Skip to main content Artisan AI Help Center Back To App English ; English Back To App English ; English All Collections Artisan Sales Help! Ava Is Sending Strange Messages From My Email Help! Ava Is Sending Strange Messages From My Email Is Ava sending emails that you don't recognize from your inbox? You haven't been hacked! It's our email warmup service. Updated over a week ago If you notice odd messages in your sent folder, don’t panic. Chances are, this is all part of our warmup email feature, which establishes your domain reputation to ensure messages don’t get filtered to spam. You can learn more here: https://support.artisan.co/en/articles/9191300-what-is-email-warmup During the warmup period, Ava sends fake warm interactions to dummy accounts to balance cold outbound. There is no need to be concerned about these strange emails. You haven't been hacked and they are not going to real prospects! Related Articles What Is Email Warmup? Ava Isn’t Sending Out My Emails. Why? Did this answer your question? 😞 😐 😃 Artisan AI Help Center\""
      ]
     },
     "metadata": {},
     "output_type": "display_data"
    },
    {
     "name": "stdout",
     "output_type": "stream",
     "text": [
      "relatedness=0.604\n"
     ]
    },
    {
     "data": {
      "text/plain": [
       "\"Ava Isn’t Sending Out My Emails. Why? | Artisan AI Help Center\\n\\nAva Isn’t Sending Out My Emails. Why? | Artisan AI Help Center Skip to main content Artisan AI Help Center Back To App English ; English Back To App English ; English Table of contents All Collections Artisan Sales Ava Isn’t Sending Out My Emails. Why? Ava Isn’t Sending Out My Emails. Why? Several factors could be preventing Ava from sending your emails. Read this article to identify what the issue might be. Updated over a week ago Table of contents We’re sorry to hear Ava has not been sending out your emails. There are several ways to troubleshoot the problem. By going over the steps below, we’re confident you’ll get Ava back up and running! Are You in the Warmup Period? Are you within the first three weeks of your account? If so, you may still be in the warmup period. Our built-in email warmup service helps establish your domain reputation to ensure Ava's emails do not get filtered to spam. During this time, Ava gradually builds up the number of emails she sends per day. It takes approximately three weeks for your mailbox to reach full sending capacity. To learn more about Email Warmup, check out our article here: https://support.artisan.co/en/articles/9191300-what-is-email-warmup Have You Connected All Your Mailboxes? In your Mailboxes page, make sure you have enough emails connected and that they all have a green status. You can find out how many emails you need per plan here: https://support.artisan.co/en/articles/9191325-how-many-email-addresses-do-i-need-for-different-plans Have You Set Up DKIM, DMARC and SPF Correctly? Check that your DKIM, DMARC, and SPF records are configured correctly. These settings are crucial for email deliverability and ensuring that your emails do not end up in the spam folder or get rejected by the recipient's email server. You can find an article on how to set up your DNS settings here here: https://support.artisan.co/en/articles/8774818-how-to-set-up-your-dkim-spf-and-dmarc Have You Approved Your Emails? We always recommend manually approving emails when you first start using Ava. With Autopilot disabled, Ava will populate emails on the Emails Pending Approval page for you to review before sending. You’ll need to come on the platform each day to approve emails and review any responses. If Ava is not sending emails, check to see if you still have pending emails to approve. Do You Have a Target Customer Persona Set Up? Ava can find leads for you based on the targeted customer persona you select. You can also upload your own CSV file of leads for Ava to reach out to. If you do not have a target customer persona set up, Ava will be unable to find leads and conduct outreach. If Ava has reached out to everyone on your CSV list, she will also stop sending emails. At this point, you need to either upload a new CSV or set up a new target customer persona. Still not working? If you’ve tried all of the above and your emails still aren’t sending, please get in touch with us via Intercom. Someone from our team will get back to you as soon as possible to work out the issue! Related Articles What Is Email Warmup? Help! Ava Is Sending Strange Messages From My Email Getting Started with Artisan Sales Did this answer your question? 😞 😐 😃 Artisan AI Help Center\""
      ]
     },
     "metadata": {},
     "output_type": "display_data"
    },
    {
     "name": "stdout",
     "output_type": "stream",
     "text": [
      "relatedness=0.585\n"
     ]
    },
    {
     "data": {
      "text/plain": [
       "\"Use Our Email Warmup Tool to Optimize Your Deliverability\\n\\nUse Our Email Warmup Tool to Optimize Your Deliverability Contact Sales Login Contact Sales Products Solutions Resources Pricing Enterprise Built-In Email Warmup to Protect Your Domain Boost your sender reputation and sidestep spam filters with our AI-driven email warmup. Phone Get Started Features We Do Everything To Ensure Your Email Is Received We have a comprehensive strategy in place to maintain your email account health. By using your inbox to interact with real people, we ensure sustained, long-term deliverability. Automatically Remove Emails From Spam Artisan helps ensure your messages avoid the spam folder by opening them, marking them as important, and significantly improving your email reputation. Tailored Email Warmup Content Every email sent through Artisan's email warmup tool is fully personalized, enhancing deliverability and demonstrating that you are a genuine sender. Intelligent Email Warmup Strategy When you connect your mailbox to Artisan, we analyze details like domain age, mailbox age, and past reputation. This information allows us to tailor the perfect email warm-up strategy, ensuring a smart and careful approach. Comprehensive Monitoring and Alerts Artisan offers an intuitive dashboard that makes it easy to monitor your email deliverability progress and performance. Real Interactions, No Fake Accounts We ensure your email domain's reputation by using real email addresses for warm-ups, resulting in a flawless reputation and high open rates. Topic-Specific Warmup With Artisan, you we customize the topic of your warm-up emails. Whether you're in real estate or another industry, the messages will be relevant and AI-generated specifically for your needs. Automatic Email Archiving Artisan automatically archives all warm-up emails, keeping your inbox organized without the need for special filters. Safe and Secure Settings Our algorithms monitor numerous parameters to keep your mailbox and domain safe throughout the warm-up process. Multilingual Email Warmup Capabilities Artisan can warm up emails in over 30 languages, aligning with the languages of your future emails for a more effective warm-up process. Regular Mailbox Health Checks Artisan performs regular health checks on your mailbox, monitoring blacklists and ensuring proper settings (SPF, DKIM, DMARC) for optimal performance. All Included In One Subscription Access all of these features and so many more with Artisan Sales. B2B Data AI Sales Playbooks 3rd Party Data Enrichment End-to-End Demand Generation Hyper-Personalized Email Writing Intent Data Deliverability Management Data Analysis B2B Data AI Sales Playbooks 3rd Party Data Enrichment End-to-End Demand Generation Hyper-Personalized Email Writing Intent Data Deliverability Management Data Analysis B2B Data AI Sales Playbooks 3rd Party Data Enrichment End-to-End Demand Generation Hyper-Personalized Email Writing Intent Data Deliverability Management Data Analysis B2B Data AI Sales Playbooks 3rd Party Data Enrichment End-to-End Demand Generation Hyper-Personalized Email Writing Intent Data Deliverability Management Data Analysis Bounce Testing Lead Discovery Lead Research Outbound CRM Deliverability Optimization Email Warmup Timezone Tracking Translation Web Scraping Bounce Testing Lead Discovery Lead Research Outbound CRM Deliverability Optimization Email Warmup Timezone Tracking Translation Web Scraping Bounce Testing Lead Discovery Lead Research Outbound CRM Deliverability Optimization Email Warmup Timezone Tracking Translation Web Scraping Bounce Testing Lead Discovery Lead Research Outbound CRM Deliverability Optimization Email Warmup Timezone Tracking Translation Web Scraping Ready to Supercharge Your Outbound? Our AI-first platform equips your team with best-in-class outbound tools and our AI BDR Ava, who automates your entire outbound workflow. Phone Get Started Products Artisan Sales Overview Ava, the AI Sales Agent B2B Data Sales Playbooks Email Warmup Sales Automation Resources Blog Demos Support Case Studies Changelog Soon Solutions Enterprise Midmarket Startups Lead Gen Agencies Soon Company About Us Contact Us Careers Artisan Labs Soon © 2024 Artisan AI Inc. All rights reserved. Terms of Use Privacy Policy\""
      ]
     },
     "metadata": {},
     "output_type": "display_data"
    },
    {
     "name": "stdout",
     "output_type": "stream",
     "text": [
      "relatedness=0.550\n"
     ]
    },
    {
     "data": {
      "text/plain": [
       "\"Getting Started with Artisan Sales | Artisan AI Help Center\\n\\nGetting Started with Artisan Sales | Artisan AI Help Center Skip to main content Artisan AI Help Center Back To App English ; English Back To App English ; English Table of contents All Collections Artisan Sales Getting Started with Artisan Sales Getting Started with Artisan Sales How to get started with the Artisan Sales platform when you first sign up for an account. Updated over a week ago Table of contents Welcome to our platform! We’re excited to have you here. The Artisan Sales platform is designed to streamline your outbound workflow, with all the tools you need in one place. We have built-in email warmup, bounce testing, and mailbox health monitoring to ensure your deliverability is optimized. We also have an analytics dashboard, so you can check which campaigns and playbooks are doing the best. And of course, we have our AI BDR Ava, who automates all the manual parts of outbound for you! Once you've set up your campaign, she helps you find leads, does research on them, and writes personalized emails for you to review and send. To make things easy for you, we’ve made sure our platform set-up is straightforward and user-friendly. Below, you’ll find a complete guide to getting started so you can dive straight into supercharging your outreach! Start with a 10-Minute Onboarding Once you’ve signed up for a trial, log in to the platform to get started! You’ll first be greeted by Ava in our chat interface. She’ll guide you through how to set up your first campaign. During your chat, Ava will ask you for some information on the kind of leads you want to target, and the offering you’d like to pitch. You might want to have this information handy, so you can breeze through the onboarding! Ava will ask you for: Your Target Customer Persona What countries do you want to target? What about industries? Job titles? Company size? About Your Company Provide a one sentence summary of what your company provides. (We recommend being as specific as possible here!) What features does your product/service offer? What pain points does your product/service address? Proof points: What sets you apart from the competition, such as awards, high rankings on review sites, or notable performance metrics? A few other things she’ll need from you: Your calendar link for booking meetings Your preferred tone of voice for emails The sender name to sign-off emails (Ava sends out emails on behalf of you and your team, so no one knows they’re AI-generated!) Make sure you spend as much time as you need on this part of the process. The more Ava knows, the better quality her emails will be. Set Up Your Mailboxes Once Ava has the information she needs to get started, she’ll ask you to set up your mailboxes that she’ll be sending emails from. We recommend setting up a secondary domain to safeguard your main domain’s reputation. When you’re sending out lots of emails, it’s a lot easier to be flagged by spam filters. If they flag you, it can affect your ability to reach prospects' inboxes. Using a secondary domain lets you experiment with A/B testing and optimize your email strategies, without putting your main communication lines at risk. We’ve created a guide that guides you through the entire process of creating a secondary domain. Check it out here . Once you’ve set up your secondary domain, there’s just one final step before Ava is ready to start sending out emails! Since you’ve created new email addresses, it’s crucial that you set up your DNS settings. This ensures that your emails reliably reach their destination and helps prevent them from being marked as spam. These settings include DKIM, SPF, and DMARC, which all work together to optimize your mailbox health. You can check out this article for further help. Ava Populates Leads After your campaign is all set up and your mailbox health is at 100%, Ava begins populating your outbound CRM in the “Leads” tab. She does this by scraping her database of 300M+ B2B contacts and identifying your prospects based on the target customer persona information you provided during the onboarding process. You can click into each lead on the page to learn more about them. You can also delete them from your workflow here, if they're not a good match! Ava Starts Generating Emails Once Ava has identified leads based on your TCP, she will scrape leads’ websites to learn information necessary to crafting hyper-personalized messages. You can view these in the “Pending Approval” tab! To ensure your messages land in the intended recipient’s inbox and not the spam filter, Ava undergoes a 3-week email warmup period. She starts by sending 5 to 10 emails a day to dummy accounts to build up domain reputation. For more information, see our guide to email warmup . After 3 weeks, Ava starts sending out emails at full capacity. This means she’ll send 75 emails per mailbox per day. When you’re first getting started, we highly recommend enabling copilot mode. With copilot activated, Ava will populate emails on the Emails Pending Approval page for you to review before sending. Each day, you’ll mark emails approved on Ava’s dashboard and review any responses. One of Ava’s most exciting features is that she is able to learn over time based on the responses she receives. As she sends out more and more emails, she’ll self-optimize to improve positive response rates. Bring Your Team Along for the Ride Don't let anyone miss out—invite your teammates to join the platform and see what it's like to have an AI co-worker by your side! Head over to “Account Settings” and bring them into the fold. You can add them as Delegates to share your existing account, or as Members for them to have their own seat on the platform. Integrate With Your Sales Stack Integrate with Slack  to talk to Ava directly through your work channel. We also integrate with Salesforce and HubSpot, so you can export your engaged leads and ensure you don’t reach out to anyone who’s already in your CRM. What's Next? Once you're all set up on our platform, all you need to do is check back for responses on the Inbox page. Ava will also send you a daily summary of all the responses you've received, via email. If you don't have autopilot turned on, you'll also need to check back every day to approve emails on your Pending Approval page. If you have any questions along the way, please visit our help center . If you run into any issues you can’t fix, please reach out to us via Intercom. Someone will be in touch to help! Related Articles How To Setup New Domains & Email Accounts What Is Email Warmup? How Do I Upload a CSV File of My Own Leads? Ava Isn’t Sending Out My Emails. Why? How To Create A New Campaign Did this answer your question? 😞 😐 😃 Artisan AI Help Center\""
      ]
     },
     "metadata": {},
     "output_type": "display_data"
    }
   ],
   "source": [
    "# examples\n",
    "strings, relatednesses = strings_ranked_by_relatedness(\"Does Ava take care of email warmup?\", df, top_n=5)\n",
    "for string, relatedness in zip(strings, relatednesses):\n",
    "    print(f\"{relatedness=:.3f}\")\n",
    "    display(string)"
   ]
  },
  {
   "attachments": {},
   "cell_type": "markdown",
   "id": "a0efa0f6-4469-457a-89a4-a2f5736a01e0",
   "metadata": {},
   "source": [
    "## 3. Ask\n",
    "\n",
    "With the search function above, we can now automatically retrieve relevant knowledge and insert it into messages to GPT.\n",
    "\n",
    "- Takes a user query\n",
    "- Searches for text relevant to the query\n",
    "- Stuffs that text into a message for GPT\n",
    "- Sends the message to GPT\n",
    "- Returns GPT's answer"
   ]
  },
  {
   "cell_type": "code",
   "execution_count": 22,
   "id": "1f45cecc",
   "metadata": {},
   "outputs": [],
   "source": [
    "def num_tokens(text: str, model: str = GPT_MODEL) -> int:\n",
    "    \"\"\"Return the number of tokens in a string.\"\"\"\n",
    "    encoding = tiktoken.encoding_for_model(model)\n",
    "    return len(encoding.encode(text))\n",
    "\n",
    "\n",
    "def query_message(\n",
    "    query: str,\n",
    "    df: pd.DataFrame,\n",
    "    model: str,\n",
    "    token_budget: int\n",
    ") -> str:\n",
    "    \"\"\"Return a message for GPT, with relevant source texts pulled from a dataframe.\"\"\"\n",
    "    strings, relatednesses = strings_ranked_by_relatedness(query, df)\n",
    "    introduction = 'Use the below articles on Artisan to answer the subsequent question.\"'\n",
    "    question = f\"\\n\\nQuestion: {query}\"\n",
    "    message = introduction\n",
    "    for string in strings:\n",
    "        next_article = f'\\n\\nArtisan article:\\n\"\"\"\\n{string}\\n\"\"\"'\n",
    "        if (\n",
    "            num_tokens(message + next_article + question, model=model)\n",
    "            > token_budget\n",
    "        ):\n",
    "            break\n",
    "        else:\n",
    "            message += next_article\n",
    "    return message + question\n",
    "\n",
    "\n",
    "def ask(\n",
    "    query: str,\n",
    "    df: pd.DataFrame = df,\n",
    "    model: str = GPT_MODEL,\n",
    "    token_budget: int = 4096 - 500,\n",
    "    print_message: bool = False,\n",
    ") -> str:\n",
    "    \"\"\"Answers a query using GPT and a dataframe of relevant texts and embeddings.\"\"\"\n",
    "    message = query_message(query, df, model=model, token_budget=token_budget)\n",
    "    if print_message:\n",
    "        print(message)\n",
    "    messages = [\n",
    "        {\"role\": \"system\", \"content\": \"You are Ava, Artisan's AI BDR. Use sources to provide informed answers to user questions about the product. The user won't see the retrieved sources, so don't include phrases like 'according to the articles.'\"},\n",
    "        {\"role\": \"user\", \"content\": message},\n",
    "    ]\n",
    "    response = client.chat.completions.create(\n",
    "        model=model,\n",
    "        messages=messages,\n",
    "        temperature=0\n",
    "    )\n",
    "    response_message = response.choices[0].message.content\n",
    "    return response_message\n",
    "\n"
   ]
  },
  {
   "attachments": {},
   "cell_type": "markdown",
   "id": "9f2b0927",
   "metadata": {},
   "source": [
    "### Example questions"
   ]
  },
  {
   "cell_type": "code",
   "execution_count": 23,
   "id": "e11f53ab",
   "metadata": {},
   "outputs": [
    {
     "data": {
      "text/plain": [
       "'Artisan offers a comprehensive AI-first platform designed to streamline and supercharge your outbound sales workflow. Here are the key features and capabilities:\\n\\n1. **AI BDR Ava**: Ava automates the manual parts of outbound sales, including finding leads, conducting research, and writing personalized emails for you to review and send.\\n\\n2. **Email Warmup and Deliverability**: The platform includes built-in email warmup, bounce testing, and mailbox health monitoring to ensure optimal email deliverability.\\n\\n3. **Analytics Dashboard**: You can track the performance of your campaigns and playbooks through an integrated analytics dashboard.\\n\\n4. **Lead Generation**: Ava populates your outbound CRM with leads by scraping a database of over 300 million B2B contacts, based on the target customer persona information you provide.\\n\\n5. **Email Personalization**: Ava scrapes leads’ websites to gather information necessary for crafting hyper-personalized messages.\\n\\n6. **Email Sending**: After a 3-week email warmup period, Ava can send up to 75 emails per mailbox per day.\\n\\n7. **Team Collaboration**: You can invite teammates to join the platform, either as Delegates sharing your account or as Members with their own seats.\\n\\n8. **Integrations**: The platform integrates with Slack, Salesforce, and HubSpot, allowing you to export engaged leads and avoid reaching out to existing CRM contacts.\\n\\n9. **Support and Resources**: Artisan provides a help center, guides, and customer support to assist with any issues or questions.\\n\\n10. **Career Opportunities**: Artisan is always looking for exceptionally talented individuals to join their team, focusing on creating autonomous AI employees and consolidating SaaS products into a single platform.\\n\\nFor more information or to get started, you can contact their sales team, book a demo, or reach out via email.'"
      ]
     },
     "execution_count": 23,
     "metadata": {},
     "output_type": "execute_result"
    }
   ],
   "source": [
    "ask('What can you do?')"
   ]
  },
  {
   "attachments": {},
   "cell_type": "markdown",
   "id": "20b3fec3",
   "metadata": {},
   "source": [
    "### Troubleshooting answers"
   ]
  },
  {
   "attachments": {},
   "cell_type": "markdown",
   "id": "a496aa2b",
   "metadata": {},
   "source": [
    "To see whether a mistake is from a lack of relevant source text (i.e., failure of the search step) or a lack of reasoning reliability (i.e., failure of the ask step), you can look at the text GPT was given by setting `print_message=True`."
   ]
  },
  {
   "cell_type": "code",
   "execution_count": 10,
   "id": "aa965e36",
   "metadata": {},
   "outputs": [
    {
     "name": "stdout",
     "output_type": "stream",
     "text": [
      "Use the below articles on Artisan to answer the subsequent question.\"\n",
      "\n",
      "Artisan article:\n",
      "\"\"\"\n",
      "How Do I Upload a CSV File of My Own Leads? | Artisan AI Help Center\n",
      "\n",
      "How Do I Upload a CSV File of My Own Leads? | Artisan AI Help Center Skip to main content Artisan AI Help Center Back To App English ; English Back To App English ; English Table of contents All Collections Artisan Sales How Do I Upload a CSV File of My Own Leads? How Do I Upload a CSV File of My Own Leads? Learn how to upload a CSV file of your own leads for Ava to draft personalized emails for. Updated over a week ago Table of contents Watch the video tutorial on Youtube here: https://youtu.be/Q2cvz48wdKg?feature=shared If you would like Ava to contact a list of leads you’ve generated yourself, you can upload a CSV file with the leads included. Doing so is a simple process. All you need to do is click on \"Upload CSV\" button in the Target Customer Persona section of your Campaign Settings: Once you upload your file, Ava should be ready to start drafting emails! However, there are a few things you should be aware of when working off your own CSV file. Make Sure You Have All the Information For Each Lead For Ava to use your CSV file, she'll need the following information about your leads: Email Address First Name Organization Name Job Title Website The reason why Ava needs this information is because this is all essential information for her to draft her hyper-personalized emails. Before uploading your CSV, make sure you’ve included all of this information. If you don't know the job title of particular leads, you can put 'Other' in the cell. Map the Corresponding Columns After selecting the CSV file to upload, map each column to the corresponding label using the dropdown menu. This step ensures that Ava reads your CSV correctly! Ava Won’t Find Leads For You If you opt to upload a CSV, Ava will only email leads off of this list. She will not use her search settings to find leads for your campaign. Each day, Ava will pull the amount of leads from your CSV that is proportionate to the plan you have. When Ava runs out of leads, she’ll pause her outreach. To continue, you’ll need to either upload a new CSV or set up a campaign with your target customer persona so Ava can find leads for you. Related Articles Does Ava Work for B2C Leads? How Many Email Addresses Do I Need for Different Plans? Ava Isn’t Sending Out My Emails. Why? How To Create A New Campaign Getting Started with Artisan Sales Did this answer your question? 😞 😐 😃 Artisan AI Help Center\n",
      "\"\"\"\n",
      "\n",
      "Artisan article:\n",
      "\"\"\"\n",
      "Does Ava Work for B2C Leads? | Artisan AI Help Center\n",
      "\n",
      "Does Ava Work for B2C Leads? | Artisan AI Help Center Skip to main content Artisan AI Help Center Back To App English ; English Back To App English ; English All Collections Artisan Sales Does Ava Work for B2C Leads? Does Ava Work for B2C Leads? Updated over a week ago You can use Ava for B2C email campaigns, but it does require extra input on your part. Right now, Ava’s database exclusively features B2B leads. If you’re using Ava for a B2C email campaign, you’ll need to upload your own spreadsheet populated with the necessary information to generate email copy. You can learn how to do this here: https://support.artisan.co/en/articles/9191308-how-do-i-upload-a-csv-file-of-my-own-leads We're working hard to introduce new features to our platform and hope to add B2C leads into Ava’s database soon! Related Articles How Do I Upload a CSV File of My Own Leads? How Many Email Addresses Do I Need for Different Plans? Ava Isn’t Sending Out My Emails. Why? How To Create A New Campaign Getting Started with Artisan Sales Did this answer your question? 😞 😐 😃 Artisan AI Help Center\n",
      "\"\"\"\n",
      "\n",
      "Artisan article:\n",
      "\"\"\"\n",
      "Getting Started with Artisan Sales | Artisan AI Help Center\n",
      "\n",
      "Getting Started with Artisan Sales | Artisan AI Help Center Skip to main content Artisan AI Help Center Back To App English ; English Back To App English ; English Table of contents All Collections Artisan Sales Getting Started with Artisan Sales Getting Started with Artisan Sales How to get started with the Artisan Sales platform when you first sign up for an account. Updated over a week ago Table of contents Welcome to our platform! We’re excited to have you here. The Artisan Sales platform is designed to streamline your outbound workflow, with all the tools you need in one place. We have built-in email warmup, bounce testing, and mailbox health monitoring to ensure your deliverability is optimized. We also have an analytics dashboard, so you can check which campaigns and playbooks are doing the best. And of course, we have our AI BDR Ava, who automates all the manual parts of outbound for you! Once you've set up your campaign, she helps you find leads, does research on them, and writes personalized emails for you to review and send. To make things easy for you, we’ve made sure our platform set-up is straightforward and user-friendly. Below, you’ll find a complete guide to getting started so you can dive straight into supercharging your outreach! Start with a 10-Minute Onboarding Once you’ve signed up for a trial, log in to the platform to get started! You’ll first be greeted by Ava in our chat interface. She’ll guide you through how to set up your first campaign. During your chat, Ava will ask you for some information on the kind of leads you want to target, and the offering you’d like to pitch. You might want to have this information handy, so you can breeze through the onboarding! Ava will ask you for: Your Target Customer Persona What countries do you want to target? What about industries? Job titles? Company size? About Your Company Provide a one sentence summary of what your company provides. (We recommend being as specific as possible here!) What features does your product/service offer? What pain points does your product/service address? Proof points: What sets you apart from the competition, such as awards, high rankings on review sites, or notable performance metrics? A few other things she’ll need from you: Your calendar link for booking meetings Your preferred tone of voice for emails The sender name to sign-off emails (Ava sends out emails on behalf of you and your team, so no one knows they’re AI-generated!) Make sure you spend as much time as you need on this part of the process. The more Ava knows, the better quality her emails will be. Set Up Your Mailboxes Once Ava has the information she needs to get started, she’ll ask you to set up your mailboxes that she’ll be sending emails from. We recommend setting up a secondary domain to safeguard your main domain’s reputation. When you’re sending out lots of emails, it’s a lot easier to be flagged by spam filters. If they flag you, it can affect your ability to reach prospects' inboxes. Using a secondary domain lets you experiment with A/B testing and optimize your email strategies, without putting your main communication lines at risk. We’ve created a guide that guides you through the entire process of creating a secondary domain. Check it out here . Once you’ve set up your secondary domain, there’s just one final step before Ava is ready to start sending out emails! Since you’ve created new email addresses, it’s crucial that you set up your DNS settings. This ensures that your emails reliably reach their destination and helps prevent them from being marked as spam. These settings include DKIM, SPF, and DMARC, which all work together to optimize your mailbox health. You can check out this article for further help. Ava Populates Leads After your campaign is all set up and your mailbox health is at 100%, Ava begins populating your outbound CRM in the “Leads” tab. She does this by scraping her database of 300M+ B2B contacts and identifying your prospects based on the target customer persona information you provided during the onboarding process. You can click into each lead on the page to learn more about them. You can also delete them from your workflow here, if they're not a good match! Ava Starts Generating Emails Once Ava has identified leads based on your TCP, she will scrape leads’ websites to learn information necessary to crafting hyper-personalized messages. You can view these in the “Pending Approval” tab! To ensure your messages land in the intended recipient’s inbox and not the spam filter, Ava undergoes a 3-week email warmup period. She starts by sending 5 to 10 emails a day to dummy accounts to build up domain reputation. For more information, see our guide to email warmup . After 3 weeks, Ava starts sending out emails at full capacity. This means she’ll send 75 emails per mailbox per day. When you’re first getting started, we highly recommend enabling copilot mode. With copilot activated, Ava will populate emails on the Emails Pending Approval page for you to review before sending. Each day, you’ll mark emails approved on Ava’s dashboard and review any responses. One of Ava’s most exciting features is that she is able to learn over time based on the responses she receives. As she sends out more and more emails, she’ll self-optimize to improve positive response rates. Bring Your Team Along for the Ride Don't let anyone miss out—invite your teammates to join the platform and see what it's like to have an AI co-worker by your side! Head over to “Account Settings” and bring them into the fold. You can add them as Delegates to share your existing account, or as Members for them to have their own seat on the platform. Integrate With Your Sales Stack Integrate with Slack  to talk to Ava directly through your work channel. We also integrate with Salesforce and HubSpot, so you can export your engaged leads and ensure you don’t reach out to anyone who’s already in your CRM. What's Next? Once you're all set up on our platform, all you need to do is check back for responses on the Inbox page. Ava will also send you a daily summary of all the responses you've received, via email. If you don't have autopilot turned on, you'll also need to check back every day to approve emails on your Pending Approval page. If you have any questions along the way, please visit our help center . If you run into any issues you can’t fix, please reach out to us via Intercom. Someone will be in touch to help! Related Articles How To Setup New Domains & Email Accounts What Is Email Warmup? How Do I Upload a CSV File of My Own Leads? Ava Isn’t Sending Out My Emails. Why? How To Create A New Campaign Did this answer your question? 😞 😐 😃 Artisan AI Help Center\n",
      "\"\"\"\n",
      "\n",
      "Artisan article:\n",
      "\"\"\"\n",
      "Ava Isn’t Sending Out My Emails. Why? | Artisan AI Help Center\n",
      "\n",
      "Ava Isn’t Sending Out My Emails. Why? | Artisan AI Help Center Skip to main content Artisan AI Help Center Back To App English ; English Back To App English ; English Table of contents All Collections Artisan Sales Ava Isn’t Sending Out My Emails. Why? Ava Isn’t Sending Out My Emails. Why? Several factors could be preventing Ava from sending your emails. Read this article to identify what the issue might be. Updated over a week ago Table of contents We’re sorry to hear Ava has not been sending out your emails. There are several ways to troubleshoot the problem. By going over the steps below, we’re confident you’ll get Ava back up and running! Are You in the Warmup Period? Are you within the first three weeks of your account? If so, you may still be in the warmup period. Our built-in email warmup service helps establish your domain reputation to ensure Ava's emails do not get filtered to spam. During this time, Ava gradually builds up the number of emails she sends per day. It takes approximately three weeks for your mailbox to reach full sending capacity. To learn more about Email Warmup, check out our article here: https://support.artisan.co/en/articles/9191300-what-is-email-warmup Have You Connected All Your Mailboxes? In your Mailboxes page, make sure you have enough emails connected and that they all have a green status. You can find out how many emails you need per plan here: https://support.artisan.co/en/articles/9191325-how-many-email-addresses-do-i-need-for-different-plans Have You Set Up DKIM, DMARC and SPF Correctly? Check that your DKIM, DMARC, and SPF records are configured correctly. These settings are crucial for email deliverability and ensuring that your emails do not end up in the spam folder or get rejected by the recipient's email server. You can find an article on how to set up your DNS settings here here: https://support.artisan.co/en/articles/8774818-how-to-set-up-your-dkim-spf-and-dmarc Have You Approved Your Emails? We always recommend manually approving emails when you first start using Ava. With Autopilot disabled, Ava will populate emails on the Emails Pending Approval page for you to review before sending. You’ll need to come on the platform each day to approve emails and review any responses. If Ava is not sending emails, check to see if you still have pending emails to approve. Do You Have a Target Customer Persona Set Up? Ava can find leads for you based on the targeted customer persona you select. You can also upload your own CSV file of leads for Ava to reach out to. If you do not have a target customer persona set up, Ava will be unable to find leads and conduct outreach. If Ava has reached out to everyone on your CSV list, she will also stop sending emails. At this point, you need to either upload a new CSV or set up a new target customer persona. Still not working? If you’ve tried all of the above and your emails still aren’t sending, please get in touch with us via Intercom. Someone from our team will get back to you as soon as possible to work out the issue! Related Articles What Is Email Warmup? Help! Ava Is Sending Strange Messages From My Email Getting Started with Artisan Sales Did this answer your question? 😞 😐 😃 Artisan AI Help Center\n",
      "\"\"\"\n",
      "\n",
      "Question: Will my CRMs be automatically synced if a lead responds to my email??\n"
     ]
    },
    {
     "data": {
      "text/plain": [
       "'No, your CRMs will not be automatically synced if a lead responds to your email. However, Artisan does offer integrations with Salesforce and HubSpot, which allow you to export your engaged leads and ensure you don’t reach out to anyone who’s already in your CRM. You would need to set up these integrations to manage your leads effectively.'"
      ]
     },
     "execution_count": 10,
     "metadata": {},
     "output_type": "execute_result"
    }
   ],
   "source": [
    "# set print_message=True to see the source text GPT was working off of\n",
    "ask('Will my CRMs be automatically synced if a lead responds to my email??', print_message=True)"
   ]
  },
  {
   "attachments": {},
   "cell_type": "markdown",
   "id": "43d68a2e",
   "metadata": {},
   "source": [
    "Knowing that this mistake was due to imperfect reasoning in the ask step, rather than imperfect retrieval in the search step, let's focus on improving the ask step.\n",
    "\n",
    "The easiest way to improve results is to use a more capable model, such as `GPT-4`. Let's try it."
   ]
  }
 ],
 "metadata": {
  "kernelspec": {
   "display_name": "Python 3.9.9 ('openai')",
   "language": "python",
   "name": "python3"
  },
  "language_info": {
   "codemirror_mode": {
    "name": "ipython",
    "version": 3
   },
   "file_extension": ".py",
   "mimetype": "text/x-python",
   "name": "python",
   "nbconvert_exporter": "python",
   "pygments_lexer": "ipython3",
   "version": "3.12.2"
  },
  "vscode": {
   "interpreter": {
    "hash": "365536dcbde60510dc9073d6b991cd35db2d9bac356a11f5b64279a5e6708b97"
   }
  }
 },
 "nbformat": 4,
 "nbformat_minor": 5
}
